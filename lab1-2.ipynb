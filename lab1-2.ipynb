{
  "nbformat": 4,
  "nbformat_minor": 0,
  "metadata": {
    "kernelspec": {
      "display_name": "Python 3",
      "language": "python",
      "name": "python3"
    },
    "language_info": {
      "codemirror_mode": {
        "name": "ipython",
        "version": 3
      },
      "file_extension": ".py",
      "mimetype": "text/x-python",
      "name": "python",
      "nbconvert_exporter": "python",
      "pygments_lexer": "ipython3",
      "version": "3.8.3"
    },
    "title": "CS187 Lab 1-2: Text classification and evaluation methodology",
    "colab": {
      "name": "Copy of lab1-2.ipynb",
      "provenance": [],
      "collapsed_sections": [
        "oN0JkmXiRX6R",
        "kpUwlAmaRX6U",
        "j-Rmwk5pRX6Z"
      ]
    }
  },
  "cells": [
    {
      "cell_type": "code",
      "metadata": {
        "deletable": false,
        "editable": false,
        "jupyter": {
          "outputs_hidden": true,
          "source_hidden": true
        },
        "id": "BgnULwIzRX48",
        "outputId": "3f0dcf7e-6490-4ae3-d9d8-310c73307fc7",
        "colab": {
          "base_uri": "https://localhost:8080/"
        }
      },
      "source": [
        "# Please do not change this cell because some hidden tests might depend on it.\n",
        "import os\n",
        "\n",
        "# Otter grader does not handle ! commands well, so we define and use our\n",
        "# own function to execute shell commands.\n",
        "def shell(commands, warn=True):\n",
        "    \"\"\"Executes the string `commands` as a sequence of shell commands.\n",
        "     \n",
        "       Prints the result to stdout and returns the exit status. \n",
        "       Provides a printed warning on non-zero exit status unless `warn` \n",
        "       flag is unset.\n",
        "    \"\"\"\n",
        "    file = os.popen(commands)\n",
        "    print (file.read().rstrip('\\n'))\n",
        "    exit_status = file.close()\n",
        "    if warn and exit_status != None:\n",
        "        print(f\"Completed with errors. Exit status: {exit_status}\\n\")\n",
        "    return exit_status\n",
        "\n",
        "shell(\"\"\"\n",
        "ls requirements.txt >/dev/null 2>&1\n",
        "if [ ! $? = 0 ]; then\n",
        " rm -rf .tmp\n",
        " git clone https://github.com/cs236299-2020/lab1-2.git .tmp\n",
        " mv .tmp/tests ./\n",
        " mv .tmp/requirements.txt ./\n",
        " rm -rf .tmp\n",
        "fi\n",
        "pip install -q -r requirements.txt\n",
        "\"\"\")"
      ],
      "execution_count": null,
      "outputs": [
        {
          "output_type": "stream",
          "text": [
            "\n"
          ],
          "name": "stdout"
        }
      ]
    },
    {
      "cell_type": "code",
      "metadata": {
        "deletable": false,
        "editable": false,
        "id": "lVbomt2ERX5B"
      },
      "source": [
        "# Initialize Otter\n",
        "import otter\n",
        "grader = otter.Notebook()"
      ],
      "execution_count": null,
      "outputs": []
    },
    {
      "cell_type": "markdown",
      "metadata": {
        "id": "iT594Xi8RX5E"
      },
      "source": [
        "# Course 236299\n",
        "## Lab 1-2 — Text classification and evaluation methodology"
      ]
    },
    {
      "cell_type": "markdown",
      "metadata": {
        "id": "5J3dD5tMRX5E"
      },
      "source": [
        "After this lab, you should be able to\n",
        "\n",
        "* Understand the distinction between training and test corpora, and why both are needed;\n",
        "* Understand the role of gold labels;\n",
        "* Implement a majority class baseline as a benchmark to compare other methods;\n",
        "* Implement nearest neighbor classification, and understand the role of distance metrics in its operation;\n",
        "* Compare multiple methods for acccuracy."
      ]
    },
    {
      "cell_type": "markdown",
      "metadata": {
        "id": "fVuZFuzxRX5F"
      },
      "source": [
        "New bits of Python used for the first time in the _solution set_ for this lab, and which you may therefore find useful, include\n",
        "\n",
        "* [`collections.Counter`](https://docs.python.org/3/library/collections.html#collections.Counter)\n",
        "* [`collections.Counter.most_common`](https://docs.python.org/3/library/collections.html#collections.Counter.most_common)"
      ]
    },
    {
      "cell_type": "markdown",
      "metadata": {
        "id": "z0ObKRHXRX5F"
      },
      "source": [
        "## Preparation – Loading packages and data"
      ]
    },
    {
      "cell_type": "code",
      "metadata": {
        "deletable": false,
        "editable": false,
        "jupyter": {
          "source_hidden": true
        },
        "id": "ki0J3Wm5RX5G"
      },
      "source": [
        "# Please do not change these imports because some hidden tests might depend on them.\n",
        "# You can add a cell below if you need to import anything else.\n",
        "import collections\n",
        "import json\n",
        "import math\n",
        "import numpy as np\n",
        "from pprint import pprint\n",
        "import re"
      ],
      "execution_count": null,
      "outputs": []
    },
    {
      "cell_type": "markdown",
      "metadata": {
        "id": "UaeWqpQWRX5J"
      },
      "source": [
        "## The Federalist Papers\n",
        "\n",
        "<img src=\"https://github.com/nlp-236299/data/raw/master/Federalist/federalist.jpg\" width=150 align=right />\n",
        "\n",
        "The _Federalist_ papers is a collection of 85 essays written pseudonymously by Alexander Hamilton, John Jay, and James Madison following the Constitutional Convention of 1787, promoting the ratification of the nascent United States Constitution.\n",
        "\n",
        "The authorship of many of the individual papers has been well established and acknowledged by the various authors, but a number of the papers have been contentious, with both Madison and Hamilton as possible authors. Determining the authorship of these disputed papers is a classic text classification problem, and one that has received great attention. The seminal work on the problem is that of [Mosteller and Wallace](http://www.historyofinformation.com/detail.php?entryid=4799), who applied then-novel statistical methods to the problem. In this lab, we'll use the _Federalist_ data to experiment with some of the ideas about distance metrics and classification methods that you've read about.\n",
        "\n",
        "Mosteller and Wallace used the frequencies of various words in the papers as the raw data for determining authorship. We've provided access to a heavily pre-digested version of this data. (If you're interested, you can find the raw data – all 85 papers – and the notebook used to generate the pre-digested data in the [course `data` github repository](https://github.com/nlp-236299/data).)\n",
        "\n",
        "Start by evaluating the cells below to load the data and view a sample."
      ]
    },
    {
      "cell_type": "code",
      "metadata": {
        "id": "Mjr0nOLaRX5K",
        "outputId": "68a4026e-4194-430d-c95a-fe1d6b672dbe",
        "colab": {
          "base_uri": "https://localhost:8080/"
        }
      },
      "source": [
        "# Read the Federalist data from the json file\n",
        "shell('wget -nv -N -P data https://github.com/nlp-236299/data/raw/master/Federalist/federalist_data.json')"
      ],
      "execution_count": null,
      "outputs": [
        {
          "output_type": "stream",
          "text": [
            "\n"
          ],
          "name": "stdout"
        }
      ]
    },
    {
      "cell_type": "code",
      "metadata": {
        "id": "8luHDoA5RX5M"
      },
      "source": [
        "with open('data/federalist_data.json', 'r') as fin:\n",
        "    dataset = json.load(fin)"
      ],
      "execution_count": null,
      "outputs": []
    },
    {
      "cell_type": "code",
      "metadata": {
        "id": "rq2pkfiBRX5Q",
        "outputId": "7e8ac9db-08c1-4acd-d01e-2bb43e9d7b67",
        "colab": {
          "base_uri": "https://localhost:8080/"
        }
      },
      "source": [
        "# View a sample of the data\n",
        "print(f\"Number of papers in the dataset: {len(dataset)}\")\n",
        "print(\"Some examples:\")\n",
        "pprint(dataset[:3])"
      ],
      "execution_count": null,
      "outputs": [
        {
          "output_type": "stream",
          "text": [
            "Number of papers in the dataset: 85\n",
            "Some examples:\n",
            "[{'authors': 'Hamilton',\n",
            "  'counts': [9, 6, 2, 0],\n",
            "  'number': '1',\n",
            "  'title': 'General Introduction'},\n",
            " {'authors': 'Jay',\n",
            "  'counts': [8, 1, 0, 0],\n",
            "  'number': '2',\n",
            "  'title': 'Concerning Dangers from Foreign Force and Influence'},\n",
            " {'authors': 'Jay',\n",
            "  'counts': [6, 0, 1, 0],\n",
            "  'number': '3',\n",
            "  'title': 'The Same Subject Continued: Concerning Dangers from Foreign Force '\n",
            "           'and Influence'}]\n"
          ],
          "name": "stdout"
        }
      ]
    },
    {
      "cell_type": "markdown",
      "metadata": {
        "id": "-3H6-GIGRX5T"
      },
      "source": [
        "You'll see above that the dataset is a list of _examples_, one for each paper, each a dictionary providing the paper number, its title and author(s), and the raw counts for a few important words in the papers. (From the last lab, you'll recognize the `counts` field as a bag-of-words representation of the document.) The `counts` field is the document representation that we will be wanting to classify, and the `authors` field contains the pertinent class label for each example. \n",
        "\n",
        "For your reference, here are the words that were used to derive the counts:"
      ]
    },
    {
      "cell_type": "code",
      "metadata": {
        "id": "R96TWh2JRX5T"
      },
      "source": [
        "keywords = ['on', 'upon', 'there', 'whilst']"
      ],
      "execution_count": null,
      "outputs": []
    },
    {
      "cell_type": "markdown",
      "metadata": {
        "id": "mRVlGt5-RX5W"
      },
      "source": [
        "Thus in the first example paper, _Federalist 1_, there were 9 tokens of \"on\", 6 of \"upon\", 2 of \"there\", and none of \"whilst\". \n",
        "\n",
        "The `authors` field takes on various values. Here's a table of the frequency of each of the values. (This will come in handy later.)"
      ]
    },
    {
      "cell_type": "code",
      "metadata": {
        "id": "9SOLfvWrRX5W",
        "outputId": "0244fd07-9010-4dca-8fb0-cc198849afaf",
        "colab": {
          "base_uri": "https://localhost:8080/"
        }
      },
      "source": [
        "# Generate a table of the number of papers by each author label\n",
        "cnt = collections.Counter(map(lambda ex: ex['authors'],\n",
        "                              dataset))\n",
        "for author, count in cnt.items():\n",
        "    print(f\"{count:3d} ({count/len(dataset):.3f}%) {author}\")"
      ],
      "execution_count": null,
      "outputs": [
        {
          "output_type": "stream",
          "text": [
            " 51 (0.600%) Hamilton\n",
            "  5 (0.059%) Jay\n",
            " 15 (0.176%) Madison\n",
            "  3 (0.035%) Hamilton and Madison\n",
            " 11 (0.129%) Hamilton or Madison\n"
          ],
          "name": "stdout"
        }
      ]
    },
    {
      "cell_type": "markdown",
      "metadata": {
        "id": "r1cO0-u8RX5Y"
      },
      "source": [
        "As you can see, some of the papers are of known authorship by Madison or \n",
        "\n",
        "1.   List item\n",
        "2.   List item\n",
        "\n",
        "Hamilton. We can use these as training data."
      ]
    },
    {
      "cell_type": "code",
      "metadata": {
        "id": "prP9Rw4vRX5Y"
      },
      "source": [
        "# Extract the papers by either of Madison and Hamilton\n",
        "training = list(filter(lambda ex: ex['authors'] in ['Madison', 'Hamilton'],\n",
        "                       dataset))"
      ],
      "execution_count": null,
      "outputs": []
    },
    {
      "cell_type": "code",
      "metadata": {
        "id": "qNP3QXOXRX5b",
        "outputId": "a03530f3-88de-496f-eef9-66f2dc66443f",
        "colab": {
          "base_uri": "https://localhost:8080/"
        }
      },
      "source": [
        "# View a sample of the training data\n",
        "print(f\"Number of papers in the dataset: {len(training)}\")\n",
        "print(\"Some examples:\")\n",
        "pprint(training[:3])"
      ],
      "execution_count": null,
      "outputs": [
        {
          "output_type": "stream",
          "text": [
            "Number of papers in the dataset: 66\n",
            "Some examples:\n",
            "[{'authors': 'Hamilton',\n",
            "  'counts': [9, 6, 2, 0],\n",
            "  'number': '1',\n",
            "  'title': 'General Introduction'},\n",
            " {'authors': 'Hamilton',\n",
            "  'counts': [2, 4, 7, 0],\n",
            "  'number': '6',\n",
            "  'title': 'Concerning Dangers from Dissensions Between the States'},\n",
            " {'authors': 'Hamilton',\n",
            "  'counts': [13, 11, 9, 0],\n",
            "  'number': '7',\n",
            "  'title': 'The Same Subject Continued: Concerning Dangers from Dissensions '\n",
            "           'Between the States'}]\n"
          ],
          "name": "stdout"
        }
      ]
    },
    {
      "cell_type": "markdown",
      "metadata": {
        "id": "gp6tXxbwRX5d"
      },
      "source": [
        "Others of the papers are of ambiguous authorship. They are shown as having `'Hamilton or Madison'` as author. These will be the elements that we want to test our models on."
      ]
    },
    {
      "cell_type": "code",
      "metadata": {
        "id": "FkeCwm8MRX5d"
      },
      "source": [
        "# Extract the papers of unknown authorship\n",
        "testing = list(filter(lambda ex: ex['authors'] == 'Hamilton or Madison',\n",
        "                      dataset))"
      ],
      "execution_count": null,
      "outputs": []
    },
    {
      "cell_type": "code",
      "metadata": {
        "id": "IWTJDqGcRX5h",
        "outputId": "ff646ea6-bdec-4bbc-a6e1-22f8f4e6ffb6",
        "colab": {
          "base_uri": "https://localhost:8080/"
        }
      },
      "source": [
        "# View a sample of the data\n",
        "print(f\"Number of papers in the dataset: {len(testing)}\")\n",
        "print(\"Some sample elements:\")\n",
        "pprint(testing[:3])"
      ],
      "execution_count": null,
      "outputs": [
        {
          "output_type": "stream",
          "text": [
            "Number of papers in the dataset: 11\n",
            "Some sample elements:\n",
            "[{'authors': 'Hamilton or Madison',\n",
            "  'counts': [16, 0, 2, 1],\n",
            "  'number': '49',\n",
            "  'title': 'Method of Guarding Against the Encroachments of Any One Department '\n",
            "           'of Government by Appealing to the People Through a Convention'},\n",
            " {'authors': 'Hamilton or Madison',\n",
            "  'counts': [11, 1, 0, 0],\n",
            "  'number': '50',\n",
            "  'title': 'Periodic Appeals to the People Considered'},\n",
            " {'authors': 'Hamilton or Madison',\n",
            "  'counts': [21, 0, 2, 2],\n",
            "  'number': '51',\n",
            "  'title': 'The Structure of the Government Must Furnish the Proper Checks and '\n",
            "           'Balances Between the Different Departments'}]\n"
          ],
          "name": "stdout"
        }
      ]
    },
    {
      "cell_type": "markdown",
      "metadata": {
        "id": "QJ5DB34zRX5k"
      },
      "source": [
        "## Models for text classification"
      ]
    },
    {
      "cell_type": "markdown",
      "metadata": {
        "deletable": false,
        "editable": false,
        "id": "KINqAImuRX5k"
      },
      "source": [
        "We can think of a _model_ for a text classification problem as a function taking a test example and returning a class label for the test example. Generating the model will rely on a corpus of training data.\n",
        "\n",
        "With a model in hand, we can evaluate its _accuracy_ on a test corpus by computing the proportion of test examples that the model correctly classifies. Define a higher-order function `accuracy` that takes a test corpus (like `testing`) and a model (which is a function, remember), and returns the accuracy of the model on that corpus. \n",
        "\n",
        "<!--\n",
        "BEGIN QUESTION\n",
        "name: accuracy\n",
        "-->"
      ]
    },
    {
      "cell_type": "code",
      "metadata": {
        "id": "i4JBLpm3RX5l"
      },
      "source": [
        "#TODO\n",
        "def accuracy(test_corpus, model):\n",
        "    y = [x['authors'] for x in test_corpus]\n",
        "    X = [x['counts'] for x in test_corpus]\n",
        "    y_hat = [model(x) for x in X]\n",
        "    return np.sum(np.array(y_hat) == np.array(y)) / (len(y))"
      ],
      "execution_count": null,
      "outputs": []
    },
    {
      "cell_type": "markdown",
      "metadata": {
        "deletable": false,
        "editable": false,
        "id": "SCLp_-doRX5n"
      },
      "source": [
        "### Majority class classification\n",
        "\n",
        "An especially simple classification model labels each test example with whichever label happens to occur most frequently in the training data. It completely ignores the test example that it classifies!\n",
        "\n",
        "By examination of the table provided above, what is the majority class label for this dataset?\n",
        "\n",
        "<!--\n",
        "BEGIN QUESTION\n",
        "name: maj_class_label\n",
        "-->"
      ]
    },
    {
      "cell_type": "code",
      "metadata": {
        "id": "23ra6BRXRX5n"
      },
      "source": [
        "#TODO\n",
        "maj_class_label = 'Hamilton'"
      ],
      "execution_count": null,
      "outputs": []
    },
    {
      "cell_type": "code",
      "metadata": {
        "deletable": false,
        "editable": false,
        "id": "96_KZzoLRX5p",
        "outputId": "b12fafe6-de0d-48d5-c885-0a1c2dfea058",
        "colab": {
          "base_uri": "https://localhost:8080/",
          "height": 46
        }
      },
      "source": [
        "grader.check(\"maj_class_label\")"
      ],
      "execution_count": null,
      "outputs": [
        {
          "output_type": "execute_result",
          "data": {
            "text/html": [
              "\n",
              "    \n",
              "    \n",
              "        <p>All tests passed!</p>\n",
              "    \n",
              "    "
            ],
            "text/plain": [
              "\n",
              "    All tests passed!\n",
              "    "
            ]
          },
          "metadata": {
            "tags": []
          },
          "execution_count": 15
        }
      ]
    },
    {
      "cell_type": "markdown",
      "metadata": {
        "deletable": false,
        "editable": false,
        "id": "IoS3H9MBRX5r"
      },
      "source": [
        "Define a function `majority_class_label` that returns the majority class label for a training set.\n",
        "<!--\n",
        "BEGIN QUESTION\n",
        "name: majority_class_label\n",
        "-->"
      ]
    },
    {
      "cell_type": "code",
      "metadata": {
        "id": "iLOHbilDRX5r"
      },
      "source": [
        "#TODO\n",
        "def majority_class_label(training):\n",
        "    return maj_class_label"
      ],
      "execution_count": null,
      "outputs": []
    },
    {
      "cell_type": "code",
      "metadata": {
        "deletable": false,
        "editable": false,
        "id": "7SLlzoPXRX5v",
        "outputId": "959d1978-3b3d-48a2-d583-c49b886a350c",
        "colab": {
          "base_uri": "https://localhost:8080/",
          "height": 46
        }
      },
      "source": [
        "grader.check(\"majority_class_label\")"
      ],
      "execution_count": null,
      "outputs": [
        {
          "output_type": "execute_result",
          "data": {
            "text/html": [
              "\n",
              "    \n",
              "    \n",
              "        <p>All tests passed!</p>\n",
              "    \n",
              "    "
            ],
            "text/plain": [
              "\n",
              "    All tests passed!\n",
              "    "
            ]
          },
          "metadata": {
            "tags": []
          },
          "execution_count": 19
        }
      ]
    },
    {
      "cell_type": "markdown",
      "metadata": {
        "deletable": false,
        "editable": false,
        "id": "IRTngP0KRX5x"
      },
      "source": [
        "What proportions of the **training** examples would be classified correctly by the majority class model?\n",
        "<!--\n",
        "BEGIN QUESTION\n",
        "name: maj_class_accuracy_guess\n",
        "-->"
      ]
    },
    {
      "cell_type": "code",
      "metadata": {
        "id": "EUPF5svfRX5x"
      },
      "source": [
        "#TODO\n",
        "maj_class_accuracy_guess = 0.77"
      ],
      "execution_count": null,
      "outputs": []
    },
    {
      "cell_type": "code",
      "metadata": {
        "deletable": false,
        "editable": false,
        "id": "AL078w6IRX5z",
        "outputId": "deed1ebd-00de-4575-b2a8-59c1093559a7",
        "colab": {
          "base_uri": "https://localhost:8080/",
          "height": 46
        }
      },
      "source": [
        "grader.check(\"maj_class_accuracy_guess\")"
      ],
      "execution_count": null,
      "outputs": [
        {
          "output_type": "execute_result",
          "data": {
            "text/html": [
              "\n",
              "    \n",
              "    \n",
              "        <p>All tests passed!</p>\n",
              "    \n",
              "    "
            ],
            "text/plain": [
              "\n",
              "    All tests passed!\n",
              "    "
            ]
          },
          "metadata": {
            "tags": []
          },
          "execution_count": 45
        }
      ]
    },
    {
      "cell_type": "markdown",
      "metadata": {
        "deletable": false,
        "editable": false,
        "id": "SIj_6jIVRX51"
      },
      "source": [
        "Now define a function `majority_class` that takes a single argument, a test example, and returns the class label that is most frequent in the training data `training` (regardless of what the test example is).\n",
        "<!--\n",
        "BEGIN QUESTION\n",
        "name: majority_class\n",
        "-->"
      ]
    },
    {
      "cell_type": "code",
      "metadata": {
        "id": "eC91Zv_KRX51"
      },
      "source": [
        "#TODO - define the `majority_class` model\n",
        "def majority_class(example):\n",
        "    return maj_class_label"
      ],
      "execution_count": null,
      "outputs": []
    },
    {
      "cell_type": "code",
      "metadata": {
        "deletable": false,
        "editable": false,
        "id": "0Nl081s4RX53",
        "outputId": "4b1b8842-3a3b-44e8-c083-1dca86dee079",
        "colab": {
          "base_uri": "https://localhost:8080/",
          "height": 46
        }
      },
      "source": [
        "grader.check(\"majority_class\")"
      ],
      "execution_count": null,
      "outputs": [
        {
          "output_type": "execute_result",
          "data": {
            "text/html": [
              "\n",
              "    \n",
              "    \n",
              "        <p>All tests passed!</p>\n",
              "    \n",
              "    "
            ],
            "text/plain": [
              "\n",
              "    All tests passed!\n",
              "    "
            ]
          },
          "metadata": {
            "tags": []
          },
          "execution_count": 41
        }
      ]
    },
    {
      "cell_type": "markdown",
      "metadata": {
        "deletable": false,
        "editable": false,
        "id": "2Reey5whRX55"
      },
      "source": [
        "Now we can see how well this majority class model works by trying it out on some examples. Use the `accuracy` function to determine the model's accuracy when applied to the task of labeling the _training_ data?\n",
        "<!--\n",
        "BEGIN QUESTION\n",
        "name: accuracy_maj_class_train\n",
        "-->"
      ]
    },
    {
      "cell_type": "code",
      "metadata": {
        "id": "3-raJv1CRX55",
        "outputId": "cef536bb-20d2-48a7-b16a-7fbbef6e05c9",
        "colab": {
          "base_uri": "https://localhost:8080/"
        }
      },
      "source": [
        "#TODO - define `maj_class_on_train` to be the accuracy of the majority class model on the training data\n",
        "accuracy_maj_class_train = accuracy(training, majority_class)"
      ],
      "execution_count": null,
      "outputs": [
        {
          "output_type": "stream",
          "text": [
            "<class 'list'>\n"
          ],
          "name": "stdout"
        }
      ]
    },
    {
      "cell_type": "code",
      "metadata": {
        "id": "Z1tXOod2tJJ6",
        "outputId": "038ee575-6362-4e18-b541-2a3aed31ccaa",
        "colab": {
          "base_uri": "https://localhost:8080/"
        }
      },
      "source": [
        "accuracy_maj_class_train"
      ],
      "execution_count": null,
      "outputs": [
        {
          "output_type": "execute_result",
          "data": {
            "text/plain": [
              "0.7727272727272727"
            ]
          },
          "metadata": {
            "tags": []
          },
          "execution_count": 43
        }
      ]
    },
    {
      "cell_type": "code",
      "metadata": {
        "deletable": false,
        "editable": false,
        "id": "nCXhY3iERX58",
        "outputId": "b0ea388f-7e33-4540-e8c9-9c6e7977ad8f",
        "colab": {
          "base_uri": "https://localhost:8080/",
          "height": 46
        }
      },
      "source": [
        "grader.check(\"accuracy_maj_class_train\")"
      ],
      "execution_count": null,
      "outputs": [
        {
          "output_type": "execute_result",
          "data": {
            "text/html": [
              "\n",
              "    \n",
              "    \n",
              "        <p>All tests passed!</p>\n",
              "    \n",
              "    "
            ],
            "text/plain": [
              "\n",
              "    All tests passed!\n",
              "    "
            ]
          },
          "metadata": {
            "tags": []
          },
          "execution_count": 47
        }
      ]
    },
    {
      "cell_type": "code",
      "metadata": {
        "id": "M-ZsU-n0RX5_",
        "outputId": "99998e0d-8fd5-4344-8e8a-c98b8d360489",
        "colab": {
          "base_uri": "https://localhost:8080/"
        }
      },
      "source": [
        "print(f\"Accuracy of the majority class model on training data: {accuracy_maj_class_train:.3f}\")"
      ],
      "execution_count": null,
      "outputs": [
        {
          "output_type": "stream",
          "text": [
            "Accuracy of the majority class model on training data: 0.773\n"
          ],
          "name": "stdout"
        }
      ]
    },
    {
      "cell_type": "markdown",
      "metadata": {
        "id": "8fJApUZgRX6C"
      },
      "source": [
        "Was your estimation from above right? **yes**"
      ]
    },
    {
      "cell_type": "markdown",
      "metadata": {
        "id": "zJ9oEGxVRX6C"
      },
      "source": [
        "### Nearest neighbor classification\n",
        "\n",
        "Recall that nearest neighbor classification classifies a test example with the label of the nearest training example. To calculate nearest neighbors, we need a distance metric between the representations of the documents. Below we've provided two such metrics, familiar from the previous lab, for Euclidean distance and cosine distance."
      ]
    },
    {
      "cell_type": "code",
      "metadata": {
        "id": "mWC8KeLeRX6D"
      },
      "source": [
        "def euclidean_distance(v1, v2):\n",
        "    '''Returns the Euclidean distance between two vectors'''\n",
        "    return np.linalg.norm(np.array(v1) - np.array(v2))"
      ],
      "execution_count": null,
      "outputs": []
    },
    {
      "cell_type": "code",
      "metadata": {
        "id": "zy0qEq3-RX6E"
      },
      "source": [
        "def safe_acos(x):\n",
        "    '''Returns the arc cosine of `x`. Unlike `math.acos`, it \n",
        "       does not raise an exception for values of `x` out of range, \n",
        "       but rather clips `x` at -1..1, thereby avoiding math domain\n",
        "       errors in the case of numerical errors.'''\n",
        "    return math.acos(math.copysign(min(1.0, abs(x)), x))\n",
        "        \n",
        "def cosine_distance(v1, v2):\n",
        "    '''Returns the cosine distance between two vectors'''\n",
        "    return (safe_acos(np.dot(v1, v2) \n",
        "                      / (np.linalg.norm(v1, 2) * np.linalg.norm(v2, 2)))\n",
        "            / math.pi)"
      ],
      "execution_count": null,
      "outputs": []
    },
    {
      "cell_type": "markdown",
      "metadata": {
        "id": "n-usVUDDRX6G"
      },
      "source": [
        "#### Generating nearest neighbor models"
      ]
    },
    {
      "cell_type": "markdown",
      "metadata": {
        "deletable": false,
        "editable": false,
        "id": "3qcjfp1lRX6G"
      },
      "source": [
        "To specify a nearest neighbor model, we need both a training corpus (like `training`) and a distance metric (like `euclidean_distance` or `cosine_distance` defined just above). \n",
        "\n",
        "Define a function called `define_nearest_neighbor` that takes a training corpus and a metric and returns a model - that is, a **function** that classifies a single test example. The model should return the class label of that training example whose counts vector is closest to that of the test example according to the metric.\n",
        "\n",
        "<!--\n",
        "BEGIN QUESTION\n",
        "name: define_nearest_neighbor\n",
        "-->"
      ]
    },
    {
      "cell_type": "code",
      "metadata": {
        "id": "Q8w-iJ-DRX6G"
      },
      "source": [
        "#TODO\n",
        "def define_nearest_neighbor(corpus, metric):\n",
        "  X = [x['counts'] for x in corpus]\n",
        "  def classifier(example):\n",
        "      distances = [metric(x, example) for x in X]\n",
        "      label = corpus[np.argmin(distances)]['authors']\n",
        "      return label;\n",
        "\n",
        "  return classifier"
      ],
      "execution_count": null,
      "outputs": []
    },
    {
      "cell_type": "markdown",
      "metadata": {
        "id": "teufF-HwRX6I"
      },
      "source": [
        "We can use the `define_nearest_neighbor` function to define two new models for nearest neighbor classification, one using Euclidean distance and one using cosine distance."
      ]
    },
    {
      "cell_type": "code",
      "metadata": {
        "id": "0cbdxcH9RX6I"
      },
      "source": [
        "nearest_neighbor_euclidean_model = \\\n",
        "    define_nearest_neighbor(training, euclidean_distance)\n",
        "\n",
        "nearest_neighbor_cosine_model = \\\n",
        "    define_nearest_neighbor(training, cosine_distance)"
      ],
      "execution_count": null,
      "outputs": []
    },
    {
      "cell_type": "markdown",
      "metadata": {
        "id": "grB_FhN2RX6K"
      },
      "source": [
        "#### Testing the nearest neighbor models on the training data"
      ]
    },
    {
      "cell_type": "markdown",
      "metadata": {
        "deletable": false,
        "editable": false,
        "id": "DIgNQPcxRX6K"
      },
      "source": [
        "How accurate are these models when used to label the training data (as we did for the majority class model above)? Use the `accuracy` function above to calculate the accuracy of `nearest_neighbor_euclidean_model` in labeling the _training_ data (not the test data), and similarly for `nearest_neighbor_cosine_model`.\n",
        "<!--\n",
        "BEGIN QUESTION\n",
        "name: accuracy_train\n",
        "-->"
      ]
    },
    {
      "cell_type": "code",
      "metadata": {
        "id": "jhA8NemwRX6L"
      },
      "source": [
        "#TODO - define the variable to be the calculated accuracy \n",
        "accuracy_nn_euclidean_train = accuracy(training, nearest_neighbor_euclidean_model)\n",
        "accuracy_nn_cosine_train = accuracy(training, nearest_neighbor_cosine_model)"
      ],
      "execution_count": null,
      "outputs": []
    },
    {
      "cell_type": "code",
      "metadata": {
        "deletable": false,
        "editable": false,
        "id": "rPsIqMylRX6M",
        "outputId": "220d8342-88e5-46a3-ac95-cb56d7b5c947",
        "colab": {
          "base_uri": "https://localhost:8080/",
          "height": 46
        }
      },
      "source": [
        "grader.check(\"accuracy_train\")"
      ],
      "execution_count": null,
      "outputs": [
        {
          "output_type": "execute_result",
          "data": {
            "text/html": [
              "\n",
              "    \n",
              "    \n",
              "        <p>All tests passed!</p>\n",
              "    \n",
              "    "
            ],
            "text/plain": [
              "\n",
              "    All tests passed!\n",
              "    "
            ]
          },
          "metadata": {
            "tags": []
          },
          "execution_count": 93
        }
      ]
    },
    {
      "cell_type": "code",
      "metadata": {
        "id": "xLoviAmdRX6O",
        "outputId": "a980cf37-7411-4057-d147-353d896f2654",
        "colab": {
          "base_uri": "https://localhost:8080/"
        }
      },
      "source": [
        "print(f\"Accuracy of the nearest neighbor euclidean model tested on training data: \"\n",
        "      f\"{accuracy_nn_euclidean_train:.3f}\")\n",
        "print(f\"Accuracy of the nearest neighbor cosine model tested on training data: \"\n",
        "      f\"{accuracy_nn_cosine_train:.3f}\")"
      ],
      "execution_count": null,
      "outputs": [
        {
          "output_type": "stream",
          "text": [
            "Accuracy of the nearest neighbor euclidean model tested on training data: 1.000\n",
            "Accuracy of the nearest neighbor cosine model tested on training data: 1.000\n"
          ],
          "name": "stdout"
        }
      ]
    },
    {
      "cell_type": "markdown",
      "metadata": {
        "deletable": false,
        "editable": false,
        "id": "jYnLFteeRX6Q"
      },
      "source": [
        "<!-- BEGIN QUESTION -->\n",
        "\n",
        "**Question:** Does the performance of these classifiers on the training data seem to you to be representative of how good a classifier each is? Why or why not?\n",
        "<!--\n",
        "BEGIN QUESTION\n",
        "name: open_response_1\n",
        "manual: true\n",
        "-->"
      ]
    },
    {
      "cell_type": "markdown",
      "metadata": {
        "id": "Vu8Tyfn8RX6Q"
      },
      "source": [
        "No, because the model was trained on the training data. Therefore, it matches it perfectly (each training example is with distance 0 to itself) and this is equal to just memorizing the training data and then retrieving the label for the same example we memorized."
      ]
    },
    {
      "cell_type": "markdown",
      "metadata": {
        "id": "oN0JkmXiRX6R"
      },
      "source": [
        "<!-- END QUESTION -->\n",
        "\n",
        "\n",
        "\n",
        "#### Testing the nearest neighbor models on the testing data"
      ]
    },
    {
      "cell_type": "markdown",
      "metadata": {
        "deletable": false,
        "editable": false,
        "id": "8W76hFBMRX6R"
      },
      "source": [
        "To get a better sense of how the nearest neighbor models perform, let's try them out on the testing data that we have. (Recall that the testing data in `testing` were the ambiguously-authored Federalist papers, where the `authors` field was `'Hamilton or Madison'`.)\n",
        "\n",
        "We start by looking in detail at the predictions generated by the two nearest neighbor models. Print out a table that lists, for each `testing` example, the paper number and the authors predicted under the nearest neighbor Euclidean model and the nearest neighbor cosine model.\n",
        "<!--\n",
        "BEGIN QUESTION\n",
        "name: print_table\n",
        "-->"
      ]
    },
    {
      "cell_type": "code",
      "metadata": {
        "id": "dvr_BcL6RX6R",
        "outputId": "dcf25d2f-cc22-4347-875b-7c84fc9268d4",
        "colab": {
          "base_uri": "https://localhost:8080/"
        }
      },
      "source": [
        "#TODO - print out the requested table\n",
        "for x in testing:\n",
        "    number = x[\"number\"]\n",
        "    counts = x[\"counts\"]\n",
        "    print(f\"paper no.: {number}, authors predicted euclidean: {nearest_neighbor_euclidean_model(counts)} authors predicted cosine: {nearest_neighbor_cosine_model(counts)}, \")"
      ],
      "execution_count": null,
      "outputs": [
        {
          "output_type": "stream",
          "text": [
            "paper no.: 49, authors predicted euclidean: Madison authors predicted cosine: Madison\n",
            "paper no.: 50, authors predicted euclidean: Hamilton authors predicted cosine: Madison\n",
            "paper no.: 51, authors predicted euclidean: Madison authors predicted cosine: Madison\n",
            "paper no.: 52, authors predicted euclidean: Madison authors predicted cosine: Madison\n",
            "paper no.: 53, authors predicted euclidean: Madison authors predicted cosine: Madison\n",
            "paper no.: 54, authors predicted euclidean: Madison authors predicted cosine: Madison\n",
            "paper no.: 55, authors predicted euclidean: Madison authors predicted cosine: Hamilton\n",
            "paper no.: 56, authors predicted euclidean: Madison authors predicted cosine: Madison\n",
            "paper no.: 57, authors predicted euclidean: Madison authors predicted cosine: Madison\n",
            "paper no.: 62, authors predicted euclidean: Madison authors predicted cosine: Madison\n",
            "paper no.: 63, authors predicted euclidean: Madison authors predicted cosine: Madison\n"
          ],
          "name": "stdout"
        }
      ]
    },
    {
      "cell_type": "markdown",
      "metadata": {
        "deletable": false,
        "editable": false,
        "id": "b0ejxa6WRX6T"
      },
      "source": [
        "<!-- BEGIN QUESTION -->\n",
        "\n",
        "What do you notice about the two models?\n",
        "<!--\n",
        "BEGIN QUESTION\n",
        "name: open_response_2\n",
        "manual: true\n",
        "-->"
      ]
    },
    {
      "cell_type": "markdown",
      "metadata": {
        "id": "th09y4ezRX6T"
      },
      "source": [
        "**The models classified almost all examples as Madiosn. Moreover, the models do not agree on the papers each one classified as written by Hamilton.**\n"
      ]
    },
    {
      "cell_type": "markdown",
      "metadata": {
        "deletable": false,
        "editable": false,
        "id": "kpUwlAmaRX6U"
      },
      "source": [
        "<!-- END QUESTION -->\n",
        "\n",
        "#### Accuracy on the testing corpus\n",
        "\n",
        "Now use the `accuracy` function to calculate the accuracy of the two nearest neighbor models as you did above, but this time calculating accuracy on the testing corpus rather than the training corpus. (Expect to find a surprising result. Read ahead for an explanation if you're confused.)\n",
        "<!--\n",
        "BEGIN QUESTION\n",
        "name: accuracy_test\n",
        "-->"
      ]
    },
    {
      "cell_type": "code",
      "metadata": {
        "id": "dc1E7lfzRX6U"
      },
      "source": [
        "#TODO - define the variables to be the calculated accuracy of the nearest \n",
        "# neighbor Euclidean model and the cosine model on the testing data\n",
        "accuracy_nn_euclidean_test = accuracy(testing, nearest_neighbor_euclidean_model)\n",
        "accuracy_nn_cosine_test = accuracy(testing, nearest_neighbor_cosine_model)"
      ],
      "execution_count": null,
      "outputs": []
    },
    {
      "cell_type": "code",
      "metadata": {
        "deletable": false,
        "editable": false,
        "id": "DHvJqhHCRX6V",
        "outputId": "cca639f7-30a7-4ab4-f99b-736d2981838d",
        "colab": {
          "base_uri": "https://localhost:8080/",
          "height": 46
        }
      },
      "source": [
        "grader.check(\"accuracy_test\")"
      ],
      "execution_count": null,
      "outputs": [
        {
          "output_type": "execute_result",
          "data": {
            "text/html": [
              "\n",
              "    \n",
              "    \n",
              "        <p>All tests passed!</p>\n",
              "    \n",
              "    "
            ],
            "text/plain": [
              "\n",
              "    All tests passed!\n",
              "    "
            ]
          },
          "metadata": {
            "tags": []
          },
          "execution_count": 104
        }
      ]
    },
    {
      "cell_type": "code",
      "metadata": {
        "id": "kOvgGWUrRX6X",
        "outputId": "3912e615-fec0-45ef-e7f7-2942eedf4f08",
        "colab": {
          "base_uri": "https://localhost:8080/"
        }
      },
      "source": [
        "print(f\"Accuracy of the nearest neighbor euclidean model tested on testing data: \"\n",
        "      f\"{accuracy_nn_euclidean_test:.3f}\")\n",
        "print(f\"Accuracy of the nearest neighbor cosine model tested on testing data: \"\n",
        "      f\"{accuracy_nn_cosine_test:.3f}\")"
      ],
      "execution_count": null,
      "outputs": [
        {
          "output_type": "stream",
          "text": [
            "Accuracy of the nearest neighbor euclidean model tested on testing data: 0.000\n",
            "Accuracy of the nearest neighbor cosine model tested on testing data: 0.000\n"
          ],
          "name": "stdout"
        }
      ]
    },
    {
      "cell_type": "markdown",
      "metadata": {
        "deletable": false,
        "editable": false,
        "id": "lzFVuSh5RX6Y"
      },
      "source": [
        "<!-- BEGIN QUESTION -->\n",
        "\n",
        "**Question:** Does the performance of these classifiers on the testing data seem to you to be representative of how good a classifier each is? Why or why not?\n",
        "<!--\n",
        "BEGIN QUESTION\n",
        "name: open_response_3\n",
        "manual: true\n",
        "-->"
      ]
    },
    {
      "cell_type": "markdown",
      "metadata": {
        "id": "szpe4UBWRX6Z"
      },
      "source": [
        "**No. The problem here is that the labels used in the training set are different from the labels used in the testing set. Therefore, accuracy will always be zero - the model is not aware of the other labels.**"
      ]
    },
    {
      "cell_type": "markdown",
      "metadata": {
        "deletable": false,
        "editable": false,
        "id": "j-Rmwk5pRX6Z"
      },
      "source": [
        "<!-- END QUESTION -->\n",
        "\n",
        "#### The importance of gold labels\n",
        "\n",
        "In order to evaluate the accuracy of the nearest neighbor model – and any model – we need to have the true labels for the testing corpus, the so-called _gold_ labels. What shall we use for gold labels? Mosteller and Wallace's much more extensive analysis concluded that all of the papers of ambiguous origin were penned by Madison, so we'll use that. We should modify the `testing` corpus to inject the gold labels. \n",
        "\n",
        "Write some code to update the testing corpus with the gold labels.\n",
        "<!--\n",
        "BEGIN QUESTION\n",
        "name: get_gold\n",
        "-->"
      ]
    },
    {
      "cell_type": "code",
      "metadata": {
        "id": "ncUz29SgRX6a"
      },
      "source": [
        "#TODO - write code to update the testing corpus with the gold labels\n",
        "for x in testing:\n",
        "    x[\"authors\"] = \"Madison\""
      ],
      "execution_count": null,
      "outputs": []
    },
    {
      "cell_type": "code",
      "metadata": {
        "deletable": false,
        "editable": false,
        "id": "N2OKjlDmRX6b",
        "outputId": "8fca5e63-1683-4287-b055-10390706b8fa",
        "colab": {
          "base_uri": "https://localhost:8080/",
          "height": 46
        }
      },
      "source": [
        "grader.check(\"get_gold\")"
      ],
      "execution_count": null,
      "outputs": [
        {
          "output_type": "execute_result",
          "data": {
            "text/html": [
              "\n",
              "    \n",
              "    \n",
              "        <p>All tests passed!</p>\n",
              "    \n",
              "    "
            ],
            "text/plain": [
              "\n",
              "    All tests passed!\n",
              "    "
            ]
          },
          "metadata": {
            "tags": []
          },
          "execution_count": 110
        }
      ]
    },
    {
      "cell_type": "markdown",
      "metadata": {
        "id": "GpnbNc4hRX6e"
      },
      "source": [
        "Now we can rerun the accuracy calculations."
      ]
    },
    {
      "cell_type": "code",
      "metadata": {
        "id": "KHQC3zcYRX6e"
      },
      "source": [
        "accuracy_nn_euclidean_test_with_gold = accuracy(testing, nearest_neighbor_euclidean_model)\n",
        "accuracy_nn_cosine_test_with_gold = accuracy(testing, nearest_neighbor_cosine_model)"
      ],
      "execution_count": null,
      "outputs": []
    },
    {
      "cell_type": "code",
      "metadata": {
        "id": "tfWms0WURX6g",
        "outputId": "5eade82e-3fec-4bc8-8d53-b4c2ec34ecfd",
        "colab": {
          "base_uri": "https://localhost:8080/"
        }
      },
      "source": [
        "print(f\"Accuracy of the nearest neighbor euclidean model tested on testing data: \"\n",
        "      f\"{accuracy_nn_euclidean_test_with_gold:.3f}\")\n",
        "print(f\"Accuracy of the nearest neighbor cosine model tested on testing data: \"\n",
        "      f\"{accuracy_nn_cosine_test_with_gold:.3f}\")"
      ],
      "execution_count": null,
      "outputs": [
        {
          "output_type": "stream",
          "text": [
            "Accuracy of the nearest neighbor euclidean model tested on testing data: 0.909\n",
            "Accuracy of the nearest neighbor cosine model tested on testing data: 0.909\n"
          ],
          "name": "stdout"
        }
      ]
    },
    {
      "cell_type": "markdown",
      "metadata": {
        "id": "66NJtYiCRX6i"
      },
      "source": [
        "Do these results make more sense?"
      ]
    },
    {
      "cell_type": "markdown",
      "metadata": {
        "deletable": false,
        "editable": false,
        "id": "KfpNYE3WRX6i"
      },
      "source": [
        "<!-- BEGIN QUESTION -->\n",
        "\n",
        "## Lab debrief – for consensus submission only\n",
        "\n",
        "**Question:** We're interested in any thoughts your group has about this lab so that we can improve this lab for later years, and to inform later labs for this year. Please list any issues that arose or comments you have to improve the lab. Useful things to comment on include the following: \n",
        "\n",
        "* Was the lab too long or too short?\n",
        "* Were the readings appropriate for the lab? \n",
        "* Was it clear (at least after you completed the lab) what the points of the exercises were? \n",
        "* Are there additions or changes you think would make the lab better?\n",
        "\n",
        "<!--\n",
        "BEGIN QUESTION\n",
        "name: open_response_debrief\n",
        "manual: true\n",
        "-->"
      ]
    },
    {
      "cell_type": "markdown",
      "metadata": {
        "id": "fJphRutlRX6j"
      },
      "source": [
        "**As we wrote about Lab 1, the lab was very clear and the staff were very helful about it. We read about naive bayes and different evaluation metrics like recall which we didn't practice.**"
      ]
    },
    {
      "cell_type": "markdown",
      "metadata": {
        "id": "cmVB2M65RX6j"
      },
      "source": [
        "<!-- END QUESTION -->\n",
        "\n",
        "\n",
        "\n",
        "# End of lab 1-2"
      ]
    },
    {
      "cell_type": "markdown",
      "metadata": {
        "deletable": false,
        "editable": false,
        "id": "XJcNKvfwRX6j"
      },
      "source": [
        "---\n",
        "\n",
        "To double-check your work, the cell below will rerun all of the autograder tests."
      ]
    },
    {
      "cell_type": "code",
      "metadata": {
        "deletable": false,
        "editable": false,
        "id": "OVvi3-3cRX6j",
        "outputId": "68ed1575-3c3c-46b5-a40d-524132dac4b6",
        "colab": {
          "base_uri": "https://localhost:8080/",
          "height": 388
        }
      },
      "source": [
        "grader.check_all()"
      ],
      "execution_count": null,
      "outputs": [
        {
          "output_type": "execute_result",
          "data": {
            "text/html": [
              "<p><strong>accuracy_maj_class_train:</strong></p>\n",
              "\n",
              "    \n",
              "    \n",
              "        <p>All tests passed!</p>\n",
              "    \n",
              "    \n",
              "\n",
              "<p><strong>accuracy_test:</strong></p>\n",
              "\n",
              "    \n",
              "    \n",
              "        <p>All tests passed!</p>\n",
              "    \n",
              "    \n",
              "\n",
              "<p><strong>accuracy_train:</strong></p>\n",
              "\n",
              "    \n",
              "    \n",
              "        <p>All tests passed!</p>\n",
              "    \n",
              "    \n",
              "\n",
              "<p><strong>get_gold:</strong></p>\n",
              "\n",
              "    \n",
              "    \n",
              "        <p>All tests passed!</p>\n",
              "    \n",
              "    \n",
              "\n",
              "<p><strong>maj_class_accuracy_guess:</strong></p>\n",
              "\n",
              "    \n",
              "    \n",
              "        <p>All tests passed!</p>\n",
              "    \n",
              "    \n",
              "\n",
              "<p><strong>maj_class_label:</strong></p>\n",
              "\n",
              "    \n",
              "    \n",
              "        <p>All tests passed!</p>\n",
              "    \n",
              "    \n",
              "\n",
              "<p><strong>majority_class:</strong></p>\n",
              "\n",
              "    \n",
              "    \n",
              "        <p>All tests passed!</p>\n",
              "    \n",
              "    \n",
              "\n",
              "<p><strong>majority_class_label:</strong></p>\n",
              "\n",
              "    \n",
              "    \n",
              "        <p>All tests passed!</p>\n",
              "    \n",
              "    \n",
              "\n"
            ],
            "text/plain": [
              "accuracy_maj_class_train:\n",
              "\n",
              "    All tests passed!\n",
              "    \n",
              "\n",
              "accuracy_test:\n",
              "\n",
              "    All tests passed!\n",
              "    \n",
              "\n",
              "accuracy_train:\n",
              "\n",
              "    All tests passed!\n",
              "    \n",
              "\n",
              "get_gold:\n",
              "\n",
              "    All tests passed!\n",
              "    \n",
              "\n",
              "maj_class_accuracy_guess:\n",
              "\n",
              "    All tests passed!\n",
              "    \n",
              "\n",
              "maj_class_label:\n",
              "\n",
              "    All tests passed!\n",
              "    \n",
              "\n",
              "majority_class:\n",
              "\n",
              "    All tests passed!\n",
              "    \n",
              "\n",
              "majority_class_label:\n",
              "\n",
              "    All tests passed!\n",
              "    \n"
            ]
          },
          "metadata": {
            "tags": []
          },
          "execution_count": 113
        }
      ]
    },
    {
      "cell_type": "code",
      "metadata": {
        "id": "fTt5Hw0Ll_lh"
      },
      "source": [
        ""
      ],
      "execution_count": null,
      "outputs": []
    }
  ]
}